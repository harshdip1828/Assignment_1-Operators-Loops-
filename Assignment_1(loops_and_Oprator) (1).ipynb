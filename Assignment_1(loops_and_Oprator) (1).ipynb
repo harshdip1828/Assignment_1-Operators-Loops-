{
  "nbformat": 4,
  "nbformat_minor": 0,
  "metadata": {
    "colab": {
      "provenance": []
    },
    "kernelspec": {
      "name": "python3",
      "display_name": "Python 3"
    },
    "language_info": {
      "name": "python"
    }
  },
  "cells": [
    {
      "cell_type": "markdown",
      "source": [
        "#Write a Python program to get the Fibonacci series between 0 to 50"
      ],
      "metadata": {
        "id": "QS4o1h9cxmS2"
      }
    },
    {
      "cell_type": "code",
      "execution_count": 1,
      "metadata": {
        "colab": {
          "base_uri": "https://localhost:8080/"
        },
        "id": "ITpAu2eKxTna",
        "outputId": "a8adeeb7-95d5-4f0d-b8a6-c66540b21c8c"
      },
      "outputs": [
        {
          "output_type": "stream",
          "name": "stdout",
          "text": [
            "1\n",
            "1\n",
            "2\n",
            "3\n",
            "5\n",
            "8\n",
            "13\n",
            "21\n",
            "34\n"
          ]
        }
      ],
      "source": [
        "\n",
        "a = 1\n",
        "b = 1\n",
        "\n",
        "print(a)\n",
        "\n",
        "for _ in range(50):\n",
        "    a, b = b, a + b\n",
        "    if a <= 50:\n",
        "        print(a)\n",
        "    else:\n",
        "        break\n"
      ]
    },
    {
      "cell_type": "markdown",
      "source": [
        "#Write a Python program that accepts a word from the user and reverse it."
      ],
      "metadata": {
        "id": "0CsMwyqdyAyN"
      }
    },
    {
      "cell_type": "code",
      "source": [
        "input_lst = input(\"Enter the String :\")\n",
        "for i in range(len(input_lst)-1,-1,-1):\n",
        "    print(input_lst[i],end = '')\n"
      ],
      "metadata": {
        "colab": {
          "base_uri": "https://localhost:8080/"
        },
        "id": "GC4pB3gwyAEX",
        "outputId": "319c5c49-ff8d-4825-c856-6c7c1efe3384"
      },
      "execution_count": 4,
      "outputs": [
        {
          "output_type": "stream",
          "name": "stdout",
          "text": [
            "Enter the String :Edyouda\n",
            "aduoydE"
          ]
        }
      ]
    },
    {
      "cell_type": "markdown",
      "source": [
        "#Write a Python program to count the number of even and odd numbers from a series of numbers.\n",
        "\n"
      ],
      "metadata": {
        "id": "Pyas7ECIziYV"
      }
    },
    {
      "cell_type": "code",
      "source": [
        "\n",
        "numbers = (1, 2, 3, 4, 5, 6, 7, 8, 9)\n",
        "even_count = 0\n",
        "odd_count = 0\n",
        "for num in numbers:\n",
        "    if num % 2 == 0:\n",
        "        even_count += 1\n",
        "    else:\n",
        "        odd_count += 1\n",
        "print(\"Number of even numbers:\", even_count)\n",
        "print(\"Number of odd numbers:\", odd_count)\n"
      ],
      "metadata": {
        "colab": {
          "base_uri": "https://localhost:8080/"
        },
        "id": "AKOmxY1Vzytj",
        "outputId": "54302863-dcce-412c-ba03-04cdde3f4c58"
      },
      "execution_count": 3,
      "outputs": [
        {
          "output_type": "stream",
          "name": "stdout",
          "text": [
            "Number of even numbers: 4\n",
            "Number of odd numbers: 5\n"
          ]
        }
      ]
    }
  ]
}